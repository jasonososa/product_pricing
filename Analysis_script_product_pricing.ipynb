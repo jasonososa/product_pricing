{
 "cells": [
  {
   "cell_type": "code",
   "execution_count": 1,
   "metadata": {},
   "outputs": [],
   "source": [
    "import pandas as pd\n",
    "import numpy as np\n",
    "\n",
    "import matplotlib.pyplot as plt\n",
    "import seaborn as sns\n",
    "\n",
    "from collections import Counter\n",
    "\n",
    "from statsmodels.stats.power import NormalIndPower\n",
    "import math\n",
    "\n",
    "%matplotlib inline"
   ]
  },
  {
   "cell_type": "code",
   "execution_count": 2,
   "metadata": {},
   "outputs": [
    {
     "data": {
      "text/html": [
       "<div>\n",
       "<style scoped>\n",
       "    .dataframe tbody tr th:only-of-type {\n",
       "        vertical-align: middle;\n",
       "    }\n",
       "\n",
       "    .dataframe tbody tr th {\n",
       "        vertical-align: top;\n",
       "    }\n",
       "\n",
       "    .dataframe thead th {\n",
       "        text-align: right;\n",
       "    }\n",
       "</style>\n",
       "<table border=\"1\" class=\"dataframe\">\n",
       "  <thead>\n",
       "    <tr style=\"text-align: right;\">\n",
       "      <th></th>\n",
       "      <th>Unnamed: 0</th>\n",
       "      <th>user_id</th>\n",
       "      <th>timestamp</th>\n",
       "      <th>source</th>\n",
       "      <th>device</th>\n",
       "      <th>operative_system</th>\n",
       "      <th>test</th>\n",
       "      <th>price</th>\n",
       "      <th>converted</th>\n",
       "    </tr>\n",
       "  </thead>\n",
       "  <tbody>\n",
       "    <tr>\n",
       "      <th>0</th>\n",
       "      <td>0</td>\n",
       "      <td>604839</td>\n",
       "      <td>2015-05-08 03:38:34</td>\n",
       "      <td>ads_facebook</td>\n",
       "      <td>mobile</td>\n",
       "      <td>iOS</td>\n",
       "      <td>0</td>\n",
       "      <td>39.0</td>\n",
       "      <td>0</td>\n",
       "    </tr>\n",
       "    <tr>\n",
       "      <th>1</th>\n",
       "      <td>1</td>\n",
       "      <td>624057</td>\n",
       "      <td>2015-05-10 21:08:46</td>\n",
       "      <td>seo-google</td>\n",
       "      <td>mobile</td>\n",
       "      <td>android</td>\n",
       "      <td>0</td>\n",
       "      <td>39.0</td>\n",
       "      <td>0</td>\n",
       "    </tr>\n",
       "    <tr>\n",
       "      <th>2</th>\n",
       "      <td>2</td>\n",
       "      <td>317970</td>\n",
       "      <td>2015-04-04 15:01:23</td>\n",
       "      <td>ads-bing</td>\n",
       "      <td>mobile</td>\n",
       "      <td>android</td>\n",
       "      <td>0</td>\n",
       "      <td>39.0</td>\n",
       "      <td>0</td>\n",
       "    </tr>\n",
       "    <tr>\n",
       "      <th>3</th>\n",
       "      <td>3</td>\n",
       "      <td>685636</td>\n",
       "      <td>2015-05-07 07:26:01</td>\n",
       "      <td>direct_traffic</td>\n",
       "      <td>mobile</td>\n",
       "      <td>iOS</td>\n",
       "      <td>1</td>\n",
       "      <td>59.0</td>\n",
       "      <td>0</td>\n",
       "    </tr>\n",
       "    <tr>\n",
       "      <th>4</th>\n",
       "      <td>4</td>\n",
       "      <td>820854</td>\n",
       "      <td>2015-05-24 11:04:40</td>\n",
       "      <td>ads_facebook</td>\n",
       "      <td>web</td>\n",
       "      <td>mac</td>\n",
       "      <td>0</td>\n",
       "      <td>39.0</td>\n",
       "      <td>0</td>\n",
       "    </tr>\n",
       "  </tbody>\n",
       "</table>\n",
       "</div>"
      ],
      "text/plain": [
       "   Unnamed: 0  user_id            timestamp          source  device  \\\n",
       "0           0   604839  2015-05-08 03:38:34    ads_facebook  mobile   \n",
       "1           1   624057  2015-05-10 21:08:46      seo-google  mobile   \n",
       "2           2   317970  2015-04-04 15:01:23        ads-bing  mobile   \n",
       "3           3   685636  2015-05-07 07:26:01  direct_traffic  mobile   \n",
       "4           4   820854  2015-05-24 11:04:40    ads_facebook     web   \n",
       "\n",
       "  operative_system  test  price  converted  \n",
       "0              iOS     0   39.0          0  \n",
       "1          android     0   39.0          0  \n",
       "2          android     0   39.0          0  \n",
       "3              iOS     1   59.0          0  \n",
       "4              mac     0   39.0          0  "
      ]
     },
     "execution_count": 2,
     "metadata": {},
     "output_type": "execute_result"
    }
   ],
   "source": [
    "# Reading test dataset\n",
    "test = pd.read_csv('test_results.csv')\n",
    "test.head()"
   ]
  },
  {
   "cell_type": "code",
   "execution_count": 3,
   "metadata": {},
   "outputs": [
    {
     "name": "stdout",
     "output_type": "stream",
     "text": [
      "<class 'pandas.core.frame.DataFrame'>\n",
      "RangeIndex: 316800 entries, 0 to 316799\n",
      "Data columns (total 9 columns):\n",
      "Unnamed: 0          316800 non-null int64\n",
      "user_id             316800 non-null int64\n",
      "timestamp           316466 non-null object\n",
      "source              316488 non-null object\n",
      "device              316800 non-null object\n",
      "operative_system    296461 non-null object\n",
      "test                316800 non-null int64\n",
      "price               316800 non-null float64\n",
      "converted           316800 non-null int64\n",
      "dtypes: float64(1), int64(4), object(4)\n",
      "memory usage: 21.8+ MB\n"
     ]
    }
   ],
   "source": [
    "# Check test data type and number of valid instances\n",
    "test.info()"
   ]
  },
  {
   "cell_type": "markdown",
   "metadata": {},
   "source": [
    "#### Looks like we have null values in test. Lets check that"
   ]
  },
  {
   "cell_type": "code",
   "execution_count": 47,
   "metadata": {},
   "outputs": [
    {
     "data": {
      "text/plain": [
       "Unnamed: 0              0\n",
       "user_id                 0\n",
       "timestamp             334\n",
       "source                312\n",
       "device                  0\n",
       "operative_system    20339\n",
       "test                    0\n",
       "price                   0\n",
       "converted               0\n",
       "dtype: int64"
      ]
     },
     "execution_count": 47,
     "metadata": {},
     "output_type": "execute_result"
    }
   ],
   "source": [
    "# How many missing values?\n",
    "test.isna().sum()"
   ]
  },
  {
   "cell_type": "markdown",
   "metadata": {},
   "source": [
    "#### We have a lot of null values in operative_system. However, no null values in device. Maybe we can only use device as it may not necessarily be useful to now the operating system.\n",
    "\n",
    "#### We also have a few null values in timestamp and source. Lets keep nulls in the back burner for a sec and look at the user dataset"
   ]
  },
  {
   "cell_type": "code",
   "execution_count": 5,
   "metadata": {},
   "outputs": [
    {
     "data": {
      "text/html": [
       "<div>\n",
       "<style scoped>\n",
       "    .dataframe tbody tr th:only-of-type {\n",
       "        vertical-align: middle;\n",
       "    }\n",
       "\n",
       "    .dataframe tbody tr th {\n",
       "        vertical-align: top;\n",
       "    }\n",
       "\n",
       "    .dataframe thead th {\n",
       "        text-align: right;\n",
       "    }\n",
       "</style>\n",
       "<table border=\"1\" class=\"dataframe\">\n",
       "  <thead>\n",
       "    <tr style=\"text-align: right;\">\n",
       "      <th></th>\n",
       "      <th>user_id</th>\n",
       "      <th>city</th>\n",
       "      <th>country</th>\n",
       "      <th>lat</th>\n",
       "      <th>long</th>\n",
       "    </tr>\n",
       "  </thead>\n",
       "  <tbody>\n",
       "    <tr>\n",
       "      <th>0</th>\n",
       "      <td>510335</td>\n",
       "      <td>Peabody</td>\n",
       "      <td>USA</td>\n",
       "      <td>42.53</td>\n",
       "      <td>-70.97</td>\n",
       "    </tr>\n",
       "    <tr>\n",
       "      <th>1</th>\n",
       "      <td>89568</td>\n",
       "      <td>Reno</td>\n",
       "      <td>USA</td>\n",
       "      <td>39.54</td>\n",
       "      <td>-119.82</td>\n",
       "    </tr>\n",
       "    <tr>\n",
       "      <th>2</th>\n",
       "      <td>434134</td>\n",
       "      <td>Rialto</td>\n",
       "      <td>USA</td>\n",
       "      <td>34.11</td>\n",
       "      <td>-117.39</td>\n",
       "    </tr>\n",
       "    <tr>\n",
       "      <th>3</th>\n",
       "      <td>289769</td>\n",
       "      <td>Carson City</td>\n",
       "      <td>USA</td>\n",
       "      <td>39.15</td>\n",
       "      <td>-119.74</td>\n",
       "    </tr>\n",
       "    <tr>\n",
       "      <th>4</th>\n",
       "      <td>939586</td>\n",
       "      <td>Chicago</td>\n",
       "      <td>USA</td>\n",
       "      <td>41.84</td>\n",
       "      <td>-87.68</td>\n",
       "    </tr>\n",
       "  </tbody>\n",
       "</table>\n",
       "</div>"
      ],
      "text/plain": [
       "   user_id         city country    lat    long\n",
       "0   510335      Peabody     USA  42.53  -70.97\n",
       "1    89568         Reno     USA  39.54 -119.82\n",
       "2   434134       Rialto     USA  34.11 -117.39\n",
       "3   289769  Carson City     USA  39.15 -119.74\n",
       "4   939586      Chicago     USA  41.84  -87.68"
      ]
     },
     "execution_count": 5,
     "metadata": {},
     "output_type": "execute_result"
    }
   ],
   "source": [
    "# Reading users dataset\n",
    "users = pd.read_csv('user_table.csv')\n",
    "users.head()"
   ]
  },
  {
   "cell_type": "markdown",
   "metadata": {},
   "source": [
    "#### Lets check for data type and any missing values."
   ]
  },
  {
   "cell_type": "code",
   "execution_count": 6,
   "metadata": {},
   "outputs": [
    {
     "name": "stdout",
     "output_type": "stream",
     "text": [
      "<class 'pandas.core.frame.DataFrame'>\n",
      "RangeIndex: 275616 entries, 0 to 275615\n",
      "Data columns (total 5 columns):\n",
      "user_id    275616 non-null int64\n",
      "city       275616 non-null object\n",
      "country    275616 non-null object\n",
      "lat        275616 non-null float64\n",
      "long       275616 non-null float64\n",
      "dtypes: float64(2), int64(1), object(2)\n",
      "memory usage: 10.5+ MB\n"
     ]
    }
   ],
   "source": [
    "users.info()"
   ]
  },
  {
   "cell_type": "markdown",
   "metadata": {},
   "source": [
    "#### Even though test dataset and user dataset can be joined in user_id, user dataset has about 41,000 less entries than test. To avoid missing data, I will keep the dataset separated for now."
   ]
  },
  {
   "cell_type": "code",
   "execution_count": 48,
   "metadata": {},
   "outputs": [
    {
     "data": {
      "text/html": [
       "<div>\n",
       "<style scoped>\n",
       "    .dataframe tbody tr th:only-of-type {\n",
       "        vertical-align: middle;\n",
       "    }\n",
       "\n",
       "    .dataframe tbody tr th {\n",
       "        vertical-align: top;\n",
       "    }\n",
       "\n",
       "    .dataframe thead th {\n",
       "        text-align: right;\n",
       "    }\n",
       "</style>\n",
       "<table border=\"1\" class=\"dataframe\">\n",
       "  <thead>\n",
       "    <tr style=\"text-align: right;\">\n",
       "      <th></th>\n",
       "      <th>Unnamed: 0</th>\n",
       "      <th>user_id</th>\n",
       "      <th>test</th>\n",
       "      <th>price</th>\n",
       "      <th>converted</th>\n",
       "    </tr>\n",
       "  </thead>\n",
       "  <tbody>\n",
       "    <tr>\n",
       "      <th>count</th>\n",
       "      <td>316800.000000</td>\n",
       "      <td>316800.000000</td>\n",
       "      <td>316800.000000</td>\n",
       "      <td>3.168000e+05</td>\n",
       "      <td>316800.000000</td>\n",
       "    </tr>\n",
       "    <tr>\n",
       "      <th>mean</th>\n",
       "      <td>158399.500000</td>\n",
       "      <td>499281.341840</td>\n",
       "      <td>0.360079</td>\n",
       "      <td>6.457590e+06</td>\n",
       "      <td>0.018333</td>\n",
       "    </tr>\n",
       "    <tr>\n",
       "      <th>std</th>\n",
       "      <td>91452.426977</td>\n",
       "      <td>288591.154044</td>\n",
       "      <td>0.480024</td>\n",
       "      <td>6.797307e+07</td>\n",
       "      <td>0.134154</td>\n",
       "    </tr>\n",
       "    <tr>\n",
       "      <th>min</th>\n",
       "      <td>0.000000</td>\n",
       "      <td>3.000000</td>\n",
       "      <td>0.000000</td>\n",
       "      <td>3.900000e+01</td>\n",
       "      <td>0.000000</td>\n",
       "    </tr>\n",
       "    <tr>\n",
       "      <th>25%</th>\n",
       "      <td>79199.750000</td>\n",
       "      <td>249525.750000</td>\n",
       "      <td>0.000000</td>\n",
       "      <td>3.900000e+01</td>\n",
       "      <td>0.000000</td>\n",
       "    </tr>\n",
       "    <tr>\n",
       "      <th>50%</th>\n",
       "      <td>158399.500000</td>\n",
       "      <td>499021.500000</td>\n",
       "      <td>0.000000</td>\n",
       "      <td>3.900000e+01</td>\n",
       "      <td>0.000000</td>\n",
       "    </tr>\n",
       "    <tr>\n",
       "      <th>75%</th>\n",
       "      <td>237599.250000</td>\n",
       "      <td>749025.500000</td>\n",
       "      <td>1.000000</td>\n",
       "      <td>5.900000e+01</td>\n",
       "      <td>0.000000</td>\n",
       "    </tr>\n",
       "    <tr>\n",
       "      <th>max</th>\n",
       "      <td>316799.000000</td>\n",
       "      <td>1000000.000000</td>\n",
       "      <td>1.000000</td>\n",
       "      <td>9.998843e+08</td>\n",
       "      <td>1.000000</td>\n",
       "    </tr>\n",
       "  </tbody>\n",
       "</table>\n",
       "</div>"
      ],
      "text/plain": [
       "          Unnamed: 0         user_id           test         price  \\\n",
       "count  316800.000000   316800.000000  316800.000000  3.168000e+05   \n",
       "mean   158399.500000   499281.341840       0.360079  6.457590e+06   \n",
       "std     91452.426977   288591.154044       0.480024  6.797307e+07   \n",
       "min         0.000000        3.000000       0.000000  3.900000e+01   \n",
       "25%     79199.750000   249525.750000       0.000000  3.900000e+01   \n",
       "50%    158399.500000   499021.500000       0.000000  3.900000e+01   \n",
       "75%    237599.250000   749025.500000       1.000000  5.900000e+01   \n",
       "max    316799.000000  1000000.000000       1.000000  9.998843e+08   \n",
       "\n",
       "           converted  \n",
       "count  316800.000000  \n",
       "mean        0.018333  \n",
       "std         0.134154  \n",
       "min         0.000000  \n",
       "25%         0.000000  \n",
       "50%         0.000000  \n",
       "75%         0.000000  \n",
       "max         1.000000  "
      ]
     },
     "execution_count": 48,
     "metadata": {},
     "output_type": "execute_result"
    }
   ],
   "source": [
    "# Lets go back to the test dataset and take a closer look at it\n",
    "test.describe()"
   ]
  },
  {
   "cell_type": "markdown",
   "metadata": {},
   "source": [
    "#### The only values price should have is either 39 or 59. This is clearly not the case. I'll fix that."
   ]
  },
  {
   "cell_type": "code",
   "execution_count": 8,
   "metadata": {},
   "outputs": [
    {
     "data": {
      "text/plain": [
       "313726"
      ]
     },
     "execution_count": 8,
     "metadata": {},
     "output_type": "execute_result"
    }
   ],
   "source": [
    "# Filter-out values higher than 59\n",
    "test_price_fix = test.drop(test[test.price > 59.0].index)\n",
    "len(test_price_fix)"
   ]
  },
  {
   "cell_type": "code",
   "execution_count": 79,
   "metadata": {},
   "outputs": [
    {
     "data": {
      "text/plain": [
       "Text(0.5, 0, 'Price')"
      ]
     },
     "execution_count": 79,
     "metadata": {},
     "output_type": "execute_result"
    },
    {
     "data": {
      "image/png": "[encoded data removed]",
      "text/plain": [
       "<Figure size 720x432 with 1 Axes>"
      ]
     },
     "metadata": {
      "needs_background": "light"
     },
     "output_type": "display_data"
    }
   ],
   "source": [
    "# Lets plot distribution of user between old and new price\n",
    "plt.figure(figsize=(10,6))\n",
    "sns.countplot(x='price', data=test_price_fix, color='#377eb8')\n",
    "\n",
    "plt.title('Distribution of users between old and new price', fontsize=20)\n",
    "plt.ylabel('Number of users', fontsize=12)\n",
    "plt.xlabel('Price', fontsize=12)"
   ]
  },
  {
   "cell_type": "markdown",
   "metadata": {},
   "source": [
    "#### Lets first decide whether we should price out product at 39 dollars or 59 dollars"
   ]
  },
  {
   "cell_type": "code",
   "execution_count": 58,
   "metadata": {},
   "outputs": [
    {
     "name": "stdout",
     "output_type": "stream",
     "text": [
      "Size of old price users dataset 200747\n",
      "Percent user that saw $39 is 63.98800226949631\n"
     ]
    },
    {
     "data": {
      "text/html": [
       "<div>\n",
       "<style scoped>\n",
       "    .dataframe tbody tr th:only-of-type {\n",
       "        vertical-align: middle;\n",
       "    }\n",
       "\n",
       "    .dataframe tbody tr th {\n",
       "        vertical-align: top;\n",
       "    }\n",
       "\n",
       "    .dataframe thead th {\n",
       "        text-align: right;\n",
       "    }\n",
       "</style>\n",
       "<table border=\"1\" class=\"dataframe\">\n",
       "  <thead>\n",
       "    <tr style=\"text-align: right;\">\n",
       "      <th></th>\n",
       "      <th>Unnamed: 0</th>\n",
       "      <th>user_id</th>\n",
       "      <th>timestamp</th>\n",
       "      <th>source</th>\n",
       "      <th>device</th>\n",
       "      <th>operative_system</th>\n",
       "      <th>test</th>\n",
       "      <th>price</th>\n",
       "      <th>converted</th>\n",
       "    </tr>\n",
       "  </thead>\n",
       "  <tbody>\n",
       "    <tr>\n",
       "      <th>0</th>\n",
       "      <td>0</td>\n",
       "      <td>604839</td>\n",
       "      <td>2015-05-08 03:38:34</td>\n",
       "      <td>ads_facebook</td>\n",
       "      <td>mobile</td>\n",
       "      <td>iOS</td>\n",
       "      <td>0</td>\n",
       "      <td>39.0</td>\n",
       "      <td>0</td>\n",
       "    </tr>\n",
       "    <tr>\n",
       "      <th>1</th>\n",
       "      <td>1</td>\n",
       "      <td>624057</td>\n",
       "      <td>2015-05-10 21:08:46</td>\n",
       "      <td>seo-google</td>\n",
       "      <td>mobile</td>\n",
       "      <td>android</td>\n",
       "      <td>0</td>\n",
       "      <td>39.0</td>\n",
       "      <td>0</td>\n",
       "    </tr>\n",
       "    <tr>\n",
       "      <th>2</th>\n",
       "      <td>2</td>\n",
       "      <td>317970</td>\n",
       "      <td>2015-04-04 15:01:23</td>\n",
       "      <td>ads-bing</td>\n",
       "      <td>mobile</td>\n",
       "      <td>android</td>\n",
       "      <td>0</td>\n",
       "      <td>39.0</td>\n",
       "      <td>0</td>\n",
       "    </tr>\n",
       "    <tr>\n",
       "      <th>4</th>\n",
       "      <td>4</td>\n",
       "      <td>820854</td>\n",
       "      <td>2015-05-24 11:04:40</td>\n",
       "      <td>ads_facebook</td>\n",
       "      <td>web</td>\n",
       "      <td>mac</td>\n",
       "      <td>0</td>\n",
       "      <td>39.0</td>\n",
       "      <td>0</td>\n",
       "    </tr>\n",
       "    <tr>\n",
       "      <th>5</th>\n",
       "      <td>5</td>\n",
       "      <td>169971</td>\n",
       "      <td>2015-04-13 12:07:08</td>\n",
       "      <td>ads-google</td>\n",
       "      <td>mobile</td>\n",
       "      <td>iOS</td>\n",
       "      <td>0</td>\n",
       "      <td>39.0</td>\n",
       "      <td>0</td>\n",
       "    </tr>\n",
       "  </tbody>\n",
       "</table>\n",
       "</div>"
      ],
      "text/plain": [
       "   Unnamed: 0  user_id            timestamp        source  device  \\\n",
       "0           0   604839  2015-05-08 03:38:34  ads_facebook  mobile   \n",
       "1           1   624057  2015-05-10 21:08:46    seo-google  mobile   \n",
       "2           2   317970  2015-04-04 15:01:23      ads-bing  mobile   \n",
       "4           4   820854  2015-05-24 11:04:40  ads_facebook     web   \n",
       "5           5   169971  2015-04-13 12:07:08    ads-google  mobile   \n",
       "\n",
       "  operative_system  test  price  converted  \n",
       "0              iOS     0   39.0          0  \n",
       "1          android     0   39.0          0  \n",
       "2          android     0   39.0          0  \n",
       "4              mac     0   39.0          0  \n",
       "5              iOS     0   39.0          0  "
      ]
     },
     "execution_count": 58,
     "metadata": {},
     "output_type": "execute_result"
    }
   ],
   "source": [
    "# Create a new df for old price only users\n",
    "old_price_users = test_price_fix[test_price_fix.price==39.0]\n",
    "print('Size of old price users dataset', len(old_price_users))\n",
    "print('Percent user that saw $39 is', len(old_price_users)/len(test_price_fix)*100)\n",
    "old_price_users.head()"
   ]
  },
  {
   "cell_type": "markdown",
   "metadata": {},
   "source": [
    "#### Users the saw 39 dollars price is ~64%"
   ]
  },
  {
   "cell_type": "code",
   "execution_count": 11,
   "metadata": {},
   "outputs": [
    {
     "data": {
      "text/html": [
       "<div>\n",
       "<style scoped>\n",
       "    .dataframe tbody tr th:only-of-type {\n",
       "        vertical-align: middle;\n",
       "    }\n",
       "\n",
       "    .dataframe tbody tr th {\n",
       "        vertical-align: top;\n",
       "    }\n",
       "\n",
       "    .dataframe thead th {\n",
       "        text-align: right;\n",
       "    }\n",
       "</style>\n",
       "<table border=\"1\" class=\"dataframe\">\n",
       "  <thead>\n",
       "    <tr style=\"text-align: right;\">\n",
       "      <th></th>\n",
       "      <th>Unnamed: 0</th>\n",
       "      <th>user_id</th>\n",
       "      <th>test</th>\n",
       "      <th>price</th>\n",
       "      <th>converted</th>\n",
       "    </tr>\n",
       "  </thead>\n",
       "  <tbody>\n",
       "    <tr>\n",
       "      <th>count</th>\n",
       "      <td>200747.000000</td>\n",
       "      <td>200747.000000</td>\n",
       "      <td>200747.000000</td>\n",
       "      <td>200747.0</td>\n",
       "      <td>200747.000000</td>\n",
       "    </tr>\n",
       "    <tr>\n",
       "      <th>mean</th>\n",
       "      <td>158306.167479</td>\n",
       "      <td>499176.185388</td>\n",
       "      <td>0.000767</td>\n",
       "      <td>39.0</td>\n",
       "      <td>0.019876</td>\n",
       "    </tr>\n",
       "    <tr>\n",
       "      <th>std</th>\n",
       "      <td>91383.871761</td>\n",
       "      <td>288614.930529</td>\n",
       "      <td>0.027687</td>\n",
       "      <td>0.0</td>\n",
       "      <td>0.139574</td>\n",
       "    </tr>\n",
       "    <tr>\n",
       "      <th>min</th>\n",
       "      <td>0.000000</td>\n",
       "      <td>9.000000</td>\n",
       "      <td>0.000000</td>\n",
       "      <td>39.0</td>\n",
       "      <td>0.000000</td>\n",
       "    </tr>\n",
       "    <tr>\n",
       "      <th>25%</th>\n",
       "      <td>79244.500000</td>\n",
       "      <td>249508.000000</td>\n",
       "      <td>0.000000</td>\n",
       "      <td>39.0</td>\n",
       "      <td>0.000000</td>\n",
       "    </tr>\n",
       "    <tr>\n",
       "      <th>50%</th>\n",
       "      <td>158333.000000</td>\n",
       "      <td>498572.000000</td>\n",
       "      <td>0.000000</td>\n",
       "      <td>39.0</td>\n",
       "      <td>0.000000</td>\n",
       "    </tr>\n",
       "    <tr>\n",
       "      <th>75%</th>\n",
       "      <td>237310.500000</td>\n",
       "      <td>749028.000000</td>\n",
       "      <td>0.000000</td>\n",
       "      <td>39.0</td>\n",
       "      <td>0.000000</td>\n",
       "    </tr>\n",
       "    <tr>\n",
       "      <th>max</th>\n",
       "      <td>316798.000000</td>\n",
       "      <td>1000000.000000</td>\n",
       "      <td>1.000000</td>\n",
       "      <td>39.0</td>\n",
       "      <td>1.000000</td>\n",
       "    </tr>\n",
       "  </tbody>\n",
       "</table>\n",
       "</div>"
      ],
      "text/plain": [
       "          Unnamed: 0         user_id           test     price      converted\n",
       "count  200747.000000   200747.000000  200747.000000  200747.0  200747.000000\n",
       "mean   158306.167479   499176.185388       0.000767      39.0       0.019876\n",
       "std     91383.871761   288614.930529       0.027687       0.0       0.139574\n",
       "min         0.000000        9.000000       0.000000      39.0       0.000000\n",
       "25%     79244.500000   249508.000000       0.000000      39.0       0.000000\n",
       "50%    158333.000000   498572.000000       0.000000      39.0       0.000000\n",
       "75%    237310.500000   749028.000000       0.000000      39.0       0.000000\n",
       "max    316798.000000  1000000.000000       1.000000      39.0       1.000000"
      ]
     },
     "execution_count": 11,
     "metadata": {},
     "output_type": "execute_result"
    }
   ],
   "source": [
    "old_price_users.describe()"
   ]
  },
  {
   "cell_type": "code",
   "execution_count": 59,
   "metadata": {},
   "outputs": [
    {
     "name": "stdout",
     "output_type": "stream",
     "text": [
      "Size of new price dataset: 112979\n",
      "Percent user that saw $59 is 36.01199773050369\n"
     ]
    },
    {
     "data": {
      "text/html": [
       "<div>\n",
       "<style scoped>\n",
       "    .dataframe tbody tr th:only-of-type {\n",
       "        vertical-align: middle;\n",
       "    }\n",
       "\n",
       "    .dataframe tbody tr th {\n",
       "        vertical-align: top;\n",
       "    }\n",
       "\n",
       "    .dataframe thead th {\n",
       "        text-align: right;\n",
       "    }\n",
       "</style>\n",
       "<table border=\"1\" class=\"dataframe\">\n",
       "  <thead>\n",
       "    <tr style=\"text-align: right;\">\n",
       "      <th></th>\n",
       "      <th>Unnamed: 0</th>\n",
       "      <th>user_id</th>\n",
       "      <th>timestamp</th>\n",
       "      <th>source</th>\n",
       "      <th>device</th>\n",
       "      <th>operative_system</th>\n",
       "      <th>test</th>\n",
       "      <th>price</th>\n",
       "      <th>converted</th>\n",
       "    </tr>\n",
       "  </thead>\n",
       "  <tbody>\n",
       "    <tr>\n",
       "      <th>3</th>\n",
       "      <td>3</td>\n",
       "      <td>685636</td>\n",
       "      <td>2015-05-07 07:26:01</td>\n",
       "      <td>direct_traffic</td>\n",
       "      <td>mobile</td>\n",
       "      <td>iOS</td>\n",
       "      <td>1</td>\n",
       "      <td>59.0</td>\n",
       "      <td>0</td>\n",
       "    </tr>\n",
       "    <tr>\n",
       "      <th>7</th>\n",
       "      <td>7</td>\n",
       "      <td>798371</td>\n",
       "      <td>2015-03-15 08:19:29</td>\n",
       "      <td>ads-bing</td>\n",
       "      <td>mobile</td>\n",
       "      <td>android</td>\n",
       "      <td>1</td>\n",
       "      <td>59.0</td>\n",
       "      <td>1</td>\n",
       "    </tr>\n",
       "    <tr>\n",
       "      <th>8</th>\n",
       "      <td>8</td>\n",
       "      <td>447194</td>\n",
       "      <td>2015-03-28 12:28:10</td>\n",
       "      <td>ads_facebook</td>\n",
       "      <td>web</td>\n",
       "      <td>windows</td>\n",
       "      <td>1</td>\n",
       "      <td>59.0</td>\n",
       "      <td>0</td>\n",
       "    </tr>\n",
       "    <tr>\n",
       "      <th>9</th>\n",
       "      <td>9</td>\n",
       "      <td>431639</td>\n",
       "      <td>2015-04-24 12:42:18</td>\n",
       "      <td>ads_facebook</td>\n",
       "      <td>web</td>\n",
       "      <td>windows</td>\n",
       "      <td>1</td>\n",
       "      <td>59.0</td>\n",
       "      <td>0</td>\n",
       "    </tr>\n",
       "    <tr>\n",
       "      <th>15</th>\n",
       "      <td>15</td>\n",
       "      <td>552048</td>\n",
       "      <td>2015-03-22 08:58:32</td>\n",
       "      <td>ads-bing</td>\n",
       "      <td>web</td>\n",
       "      <td>windows</td>\n",
       "      <td>1</td>\n",
       "      <td>59.0</td>\n",
       "      <td>0</td>\n",
       "    </tr>\n",
       "  </tbody>\n",
       "</table>\n",
       "</div>"
      ],
      "text/plain": [
       "    Unnamed: 0  user_id            timestamp          source  device  \\\n",
       "3            3   685636  2015-05-07 07:26:01  direct_traffic  mobile   \n",
       "7            7   798371  2015-03-15 08:19:29        ads-bing  mobile   \n",
       "8            8   447194  2015-03-28 12:28:10    ads_facebook     web   \n",
       "9            9   431639  2015-04-24 12:42:18    ads_facebook     web   \n",
       "15          15   552048  2015-03-22 08:58:32        ads-bing     web   \n",
       "\n",
       "   operative_system  test  price  converted  \n",
       "3               iOS     1   59.0          0  \n",
       "7           android     1   59.0          1  \n",
       "8           windows     1   59.0          0  \n",
       "9           windows     1   59.0          0  \n",
       "15          windows     1   59.0          0  "
      ]
     },
     "execution_count": 59,
     "metadata": {},
     "output_type": "execute_result"
    }
   ],
   "source": [
    "new_price_users = test_price_fix[test_price_fix.price==59.0]\n",
    "print('Size of new price dataset:', len(new_price_users))\n",
    "print('Percent user that saw $59 is', len(new_price_users)/len(test_price_fix)*100)\n",
    "new_price_users.head()"
   ]
  },
  {
   "cell_type": "markdown",
   "metadata": {},
   "source": [
    "#### Some quick math shows, users exposed to 59 dollars price is ~36%"
   ]
  },
  {
   "cell_type": "code",
   "execution_count": 13,
   "metadata": {},
   "outputs": [
    {
     "data": {
      "text/html": [
       "<div>\n",
       "<style scoped>\n",
       "    .dataframe tbody tr th:only-of-type {\n",
       "        vertical-align: middle;\n",
       "    }\n",
       "\n",
       "    .dataframe tbody tr th {\n",
       "        vertical-align: top;\n",
       "    }\n",
       "\n",
       "    .dataframe thead th {\n",
       "        text-align: right;\n",
       "    }\n",
       "</style>\n",
       "<table border=\"1\" class=\"dataframe\">\n",
       "  <thead>\n",
       "    <tr style=\"text-align: right;\">\n",
       "      <th></th>\n",
       "      <th>Unnamed: 0</th>\n",
       "      <th>user_id</th>\n",
       "      <th>test</th>\n",
       "      <th>price</th>\n",
       "      <th>converted</th>\n",
       "    </tr>\n",
       "  </thead>\n",
       "  <tbody>\n",
       "    <tr>\n",
       "      <th>count</th>\n",
       "      <td>112979.000000</td>\n",
       "      <td>112979.000000</td>\n",
       "      <td>112979.000000</td>\n",
       "      <td>112979.0</td>\n",
       "      <td>112979.000000</td>\n",
       "    </tr>\n",
       "    <tr>\n",
       "      <th>mean</th>\n",
       "      <td>158588.064490</td>\n",
       "      <td>499550.455138</td>\n",
       "      <td>0.998150</td>\n",
       "      <td>59.0</td>\n",
       "      <td>0.015569</td>\n",
       "    </tr>\n",
       "    <tr>\n",
       "      <th>std</th>\n",
       "      <td>91568.422897</td>\n",
       "      <td>288598.056417</td>\n",
       "      <td>0.042971</td>\n",
       "      <td>0.0</td>\n",
       "      <td>0.123802</td>\n",
       "    </tr>\n",
       "    <tr>\n",
       "      <th>min</th>\n",
       "      <td>3.000000</td>\n",
       "      <td>3.000000</td>\n",
       "      <td>0.000000</td>\n",
       "      <td>59.0</td>\n",
       "      <td>0.000000</td>\n",
       "    </tr>\n",
       "    <tr>\n",
       "      <th>25%</th>\n",
       "      <td>79150.500000</td>\n",
       "      <td>249461.500000</td>\n",
       "      <td>1.000000</td>\n",
       "      <td>59.0</td>\n",
       "      <td>0.000000</td>\n",
       "    </tr>\n",
       "    <tr>\n",
       "      <th>50%</th>\n",
       "      <td>158550.000000</td>\n",
       "      <td>500175.000000</td>\n",
       "      <td>1.000000</td>\n",
       "      <td>59.0</td>\n",
       "      <td>0.000000</td>\n",
       "    </tr>\n",
       "    <tr>\n",
       "      <th>75%</th>\n",
       "      <td>238141.500000</td>\n",
       "      <td>749170.500000</td>\n",
       "      <td>1.000000</td>\n",
       "      <td>59.0</td>\n",
       "      <td>0.000000</td>\n",
       "    </tr>\n",
       "    <tr>\n",
       "      <th>max</th>\n",
       "      <td>316799.000000</td>\n",
       "      <td>999995.000000</td>\n",
       "      <td>1.000000</td>\n",
       "      <td>59.0</td>\n",
       "      <td>1.000000</td>\n",
       "    </tr>\n",
       "  </tbody>\n",
       "</table>\n",
       "</div>"
      ],
      "text/plain": [
       "          Unnamed: 0        user_id           test     price      converted\n",
       "count  112979.000000  112979.000000  112979.000000  112979.0  112979.000000\n",
       "mean   158588.064490  499550.455138       0.998150      59.0       0.015569\n",
       "std     91568.422897  288598.056417       0.042971       0.0       0.123802\n",
       "min         3.000000       3.000000       0.000000      59.0       0.000000\n",
       "25%     79150.500000  249461.500000       1.000000      59.0       0.000000\n",
       "50%    158550.000000  500175.000000       1.000000      59.0       0.000000\n",
       "75%    238141.500000  749170.500000       1.000000      59.0       0.000000\n",
       "max    316799.000000  999995.000000       1.000000      59.0       1.000000"
      ]
     },
     "execution_count": 13,
     "metadata": {},
     "output_type": "execute_result"
    }
   ],
   "source": [
    "new_price_users.describe()"
   ]
  },
  {
   "cell_type": "code",
   "execution_count": 78,
   "metadata": {},
   "outputs": [
    {
     "name": "stdout",
     "output_type": "stream",
     "text": [
      "Converted users Counter({0: 196757, 1: 3990})\n"
     ]
    },
    {
     "data": {
      "text/plain": [
       "Text(0.5, 0, 'Converted')"
      ]
     },
     "execution_count": 78,
     "metadata": {},
     "output_type": "execute_result"
    },
    {
     "data": {
      "image/png": "[encoded data removed]",
      "text/plain": [
       "<Figure size 720x432 with 1 Axes>"
      ]
     },
     "metadata": {
      "needs_background": "light"
     },
     "output_type": "display_data"
    }
   ],
   "source": [
    "# old price converted users\n",
    "plt.figure(figsize=(10,6))\n",
    "sns.countplot(x='converted', data=old_price_users, color='#377eb8')\n",
    "print('Converted users',Counter(old_price_users.converted))\n",
    "\n",
    "plt.title('Number of converted or not converted users for $39', fontsize=20)\n",
    "plt.ylabel('Number of users', fontsize=12)\n",
    "plt.xlabel('Converted', fontsize=12)"
   ]
  },
  {
   "cell_type": "code",
   "execution_count": 68,
   "metadata": {},
   "outputs": [
    {
     "name": "stdout",
     "output_type": "stream",
     "text": [
      "Percent of converted users at $39: 1.9875764021380145 %\n"
     ]
    }
   ],
   "source": [
    "# Percent of converted users how saw old price\n",
    "print('Percent of converted users at $39:', (Counter(old_price_users.converted)[1]/len(old_price_users))*100,'%')"
   ]
  },
  {
   "cell_type": "markdown",
   "metadata": {},
   "source": [
    "#### About 1.99% of users who see 39 dollars price are converted"
   ]
  },
  {
   "cell_type": "code",
   "execution_count": 77,
   "metadata": {},
   "outputs": [
    {
     "name": "stdout",
     "output_type": "stream",
     "text": [
      "Converted users Counter({0: 111220, 1: 1759})\n"
     ]
    },
    {
     "data": {
      "text/plain": [
       "Text(0.5, 0, 'Converted')"
      ]
     },
     "execution_count": 77,
     "metadata": {},
     "output_type": "execute_result"
    },
    {
     "data": {
      "image/png": "[encoded data removed]",
      "text/plain": [
       "<Figure size 720x432 with 1 Axes>"
      ]
     },
     "metadata": {
      "needs_background": "light"
     },
     "output_type": "display_data"
    }
   ],
   "source": [
    "# new price converted users\n",
    "plt.figure(figsize=(10,6))\n",
    "sns.countplot(x='converted', data=new_price_users, color='#377eb8')\n",
    "print('Converted users', Counter(new_price_users.converted))\n",
    "\n",
    "plt.title('Distribution of converted or not converted users for $59', fontsize=20)\n",
    "plt.ylabel('Number of users', fontsize=12)\n",
    "plt.xlabel('Converted', fontsize=12)"
   ]
  },
  {
   "cell_type": "code",
   "execution_count": 70,
   "metadata": {},
   "outputs": [
    {
     "name": "stdout",
     "output_type": "stream",
     "text": [
      "Percent of converted users at $59: 1.5569265084661752 %\n"
     ]
    }
   ],
   "source": [
    "# Percent of converted users who saw new price\n",
    "print('Percent of converted users at $59:', (Counter(new_price_users.converted)[1]/len(new_price_users))*100, '%')"
   ]
  },
  {
   "cell_type": "markdown",
   "metadata": {},
   "source": [
    "#### About 1.56% of users who see 59 dollars price are converted.\n",
    "\n",
    "# Should XYZ price the product at 39 or 59 dollars?\n",
    "\n",
    "#### First, by incresing the price the conversion rate dropped from ~2% to ~1.56%. This could be a significant drop.\n",
    "\n",
    "#### However, the expected value from selling the product at 59 would be $0.9204==(New Price*Conversion Rate = $59*0.0156) for every person that goes to the website vs $0.7761==(Old Price*Conversion Rate = $39 * 0.0199) for selling the product at 39.\n",
    "\n",
    "#### That is an increase of $0.1443 by just selling the product at 59.\n",
    "\n",
    "#### Therefore, I will recommend XYZ to keep the new price and focus on increasing conversion rate."
   ]
  },
  {
   "cell_type": "markdown",
   "metadata": {},
   "source": [
    "#### User_id table is missing about 40k entires. I will start looking at the test dataset by itself and do customer segmentation using Source, timestamp, and device with a focus on conversion rate to find ways to increase customer conversion."
   ]
  },
  {
   "cell_type": "markdown",
   "metadata": {},
   "source": [
    "#### Since customer behavior from customers that bought at 39 dollars may be different from customers that bough at 59 dollars, I'll do this anaysis for new price (59) cutomers only"
   ]
  },
  {
   "cell_type": "code",
   "execution_count": 71,
   "metadata": {},
   "outputs": [],
   "source": [
    "# df for converted users only who saw new price\n",
    "converted_new_price = new_price_users[new_price_users.converted==1]"
   ]
  },
  {
   "cell_type": "code",
   "execution_count": 19,
   "metadata": {},
   "outputs": [
    {
     "data": {
      "text/plain": [
       "source\n",
       "ads-bing            78\n",
       "ads-google         418\n",
       "ads-yahoo           31\n",
       "ads_facebook       321\n",
       "ads_other          130\n",
       "direct_traffic     218\n",
       "friend_referral    251\n",
       "seo-bing            11\n",
       "seo-google         128\n",
       "seo-other           42\n",
       "seo-yahoo           26\n",
       "seo_facebook       104\n",
       "Name: converted, dtype: int64"
      ]
     },
     "execution_count": 19,
     "metadata": {},
     "output_type": "execute_result"
    }
   ],
   "source": [
    "# How are users segmented by source that led to buying the product\n",
    "converted_source_group = converted_new_price.groupby('source')['converted'].count()\n",
    "converted_source_group"
   ]
  },
  {
   "cell_type": "code",
   "execution_count": 81,
   "metadata": {},
   "outputs": [
    {
     "data": {
      "text/plain": [
       "(array([ 0,  1,  2,  3,  4,  5,  6,  7,  8,  9, 10, 11]),\n",
       " <a list of 12 Text xticklabel objects>)"
      ]
     },
     "execution_count": 81,
     "metadata": {},
     "output_type": "execute_result"
    },
    {
     "data": {
      "image/png": "[encoded data removed]",
      "text/plain": [
       "<Figure size 864x432 with 1 Axes>"
      ]
     },
     "metadata": {
      "needs_background": "light"
     },
     "output_type": "display_data"
    }
   ],
   "source": [
    "# Plot converted user by source for new price\n",
    "converted_source_group.sort_values(ascending=False).plot(kind='bar', figsize=(12,6), color='gray')\n",
    "\n",
    "plt.title('Distribution of converted users at $59 for each source', fontsize=20)\n",
    "plt.ylabel('Number of users', fontsize=12)\n",
    "plt.xlabel('Source that led to conversion', fontsize=12)\n",
    "plt.xticks(rotation=45, ha='right')"
   ]
  },
  {
   "cell_type": "markdown",
   "metadata": {},
   "source": [
    "#### Looks like user that buy the product come most often from ads in google, then ads in facebok. Rhis is followed by friend referral and direct traffic (probably linked)"
   ]
  },
  {
   "cell_type": "code",
   "execution_count": 82,
   "metadata": {},
   "outputs": [
    {
     "data": {
      "text/plain": [
       "(array([0, 1]), <a list of 2 Text xticklabel objects>)"
      ]
     },
     "execution_count": 82,
     "metadata": {},
     "output_type": "execute_result"
    },
    {
     "data": {
      "image/png": "[encoded data removed]",
      "text/plain": [
       "<Figure size 864x432 with 1 Axes>"
      ]
     },
     "metadata": {
      "needs_background": "light"
     },
     "output_type": "display_data"
    }
   ],
   "source": [
    "converted_device_group = converted_new_price.groupby('device')['converted'].count()\n",
    "converted_device_group.plot(kind='bar', figsize=(12,6), color='#377eb8')\n",
    "\n",
    "plt.title('Distribution of converted users at $59 by device', fontsize=20)\n",
    "plt.ylabel('Number of users', fontsize=12)\n",
    "plt.xlabel('Device', fontsize=12)\n",
    "plt.xticks(rotation='horizontal')"
   ]
  },
  {
   "cell_type": "markdown",
   "metadata": {},
   "source": [
    "#### Similar to trends in customers behavior users bought the product more often from mobile than traditional computers"
   ]
  },
  {
   "cell_type": "markdown",
   "metadata": {},
   "source": [
    "#### At what time of the day did users coverted the highest?"
   ]
  },
  {
   "cell_type": "code",
   "execution_count": 83,
   "metadata": {},
   "outputs": [
    {
     "data": {
      "text/html": [
       "<div>\n",
       "<style scoped>\n",
       "    .dataframe tbody tr th:only-of-type {\n",
       "        vertical-align: middle;\n",
       "    }\n",
       "\n",
       "    .dataframe tbody tr th {\n",
       "        vertical-align: top;\n",
       "    }\n",
       "\n",
       "    .dataframe thead th {\n",
       "        text-align: right;\n",
       "    }\n",
       "</style>\n",
       "<table border=\"1\" class=\"dataframe\">\n",
       "  <thead>\n",
       "    <tr style=\"text-align: right;\">\n",
       "      <th></th>\n",
       "      <th>Unnamed: 0</th>\n",
       "      <th>user_id</th>\n",
       "      <th>timestamp</th>\n",
       "      <th>source</th>\n",
       "      <th>device</th>\n",
       "      <th>operative_system</th>\n",
       "      <th>test</th>\n",
       "      <th>price</th>\n",
       "      <th>converted</th>\n",
       "    </tr>\n",
       "  </thead>\n",
       "  <tbody>\n",
       "    <tr>\n",
       "      <th>7</th>\n",
       "      <td>7</td>\n",
       "      <td>798371</td>\n",
       "      <td>2015-03-15 08:19:29</td>\n",
       "      <td>ads-bing</td>\n",
       "      <td>mobile</td>\n",
       "      <td>android</td>\n",
       "      <td>1</td>\n",
       "      <td>59.0</td>\n",
       "      <td>1</td>\n",
       "    </tr>\n",
       "    <tr>\n",
       "      <th>46</th>\n",
       "      <td>46</td>\n",
       "      <td>733130</td>\n",
       "      <td>2015-03-14 10:24:22</td>\n",
       "      <td>ads_other</td>\n",
       "      <td>mobile</td>\n",
       "      <td>android</td>\n",
       "      <td>1</td>\n",
       "      <td>59.0</td>\n",
       "      <td>1</td>\n",
       "    </tr>\n",
       "    <tr>\n",
       "      <th>355</th>\n",
       "      <td>355</td>\n",
       "      <td>551940</td>\n",
       "      <td>2015-05-26 14:19:16</td>\n",
       "      <td>seo-bing</td>\n",
       "      <td>mobile</td>\n",
       "      <td>iOS</td>\n",
       "      <td>1</td>\n",
       "      <td>59.0</td>\n",
       "      <td>1</td>\n",
       "    </tr>\n",
       "    <tr>\n",
       "      <th>481</th>\n",
       "      <td>481</td>\n",
       "      <td>66514</td>\n",
       "      <td>2015-05-04 09:22:36</td>\n",
       "      <td>ads_facebook</td>\n",
       "      <td>web</td>\n",
       "      <td>windows</td>\n",
       "      <td>1</td>\n",
       "      <td>59.0</td>\n",
       "      <td>1</td>\n",
       "    </tr>\n",
       "    <tr>\n",
       "      <th>1264</th>\n",
       "      <td>1264</td>\n",
       "      <td>613138</td>\n",
       "      <td>2015-04-14 12:46:49</td>\n",
       "      <td>ads-google</td>\n",
       "      <td>web</td>\n",
       "      <td>windows</td>\n",
       "      <td>1</td>\n",
       "      <td>59.0</td>\n",
       "      <td>1</td>\n",
       "    </tr>\n",
       "  </tbody>\n",
       "</table>\n",
       "</div>"
      ],
      "text/plain": [
       "      Unnamed: 0  user_id            timestamp        source  device  \\\n",
       "7              7   798371  2015-03-15 08:19:29      ads-bing  mobile   \n",
       "46            46   733130  2015-03-14 10:24:22     ads_other  mobile   \n",
       "355          355   551940  2015-05-26 14:19:16      seo-bing  mobile   \n",
       "481          481    66514  2015-05-04 09:22:36  ads_facebook     web   \n",
       "1264        1264   613138  2015-04-14 12:46:49    ads-google     web   \n",
       "\n",
       "     operative_system  test  price  converted  \n",
       "7             android     1   59.0          1  \n",
       "46            android     1   59.0          1  \n",
       "355               iOS     1   59.0          1  \n",
       "481           windows     1   59.0          1  \n",
       "1264          windows     1   59.0          1  "
      ]
     },
     "execution_count": 83,
     "metadata": {},
     "output_type": "execute_result"
    }
   ],
   "source": [
    "# Revisiting the df\n",
    "converted_new_price.head()"
   ]
  },
  {
   "cell_type": "code",
   "execution_count": 23,
   "metadata": {},
   "outputs": [
    {
     "data": {
      "text/html": [
       "<div>\n",
       "<style scoped>\n",
       "    .dataframe tbody tr th:only-of-type {\n",
       "        vertical-align: middle;\n",
       "    }\n",
       "\n",
       "    .dataframe tbody tr th {\n",
       "        vertical-align: top;\n",
       "    }\n",
       "\n",
       "    .dataframe thead th {\n",
       "        text-align: right;\n",
       "    }\n",
       "</style>\n",
       "<table border=\"1\" class=\"dataframe\">\n",
       "  <thead>\n",
       "    <tr style=\"text-align: right;\">\n",
       "      <th></th>\n",
       "      <th>0</th>\n",
       "      <th>1</th>\n",
       "      <th>2</th>\n",
       "    </tr>\n",
       "  </thead>\n",
       "  <tbody>\n",
       "    <tr>\n",
       "      <th>7</th>\n",
       "      <td>08</td>\n",
       "      <td>19</td>\n",
       "      <td>29</td>\n",
       "    </tr>\n",
       "    <tr>\n",
       "      <th>46</th>\n",
       "      <td>10</td>\n",
       "      <td>24</td>\n",
       "      <td>22</td>\n",
       "    </tr>\n",
       "    <tr>\n",
       "      <th>355</th>\n",
       "      <td>14</td>\n",
       "      <td>19</td>\n",
       "      <td>16</td>\n",
       "    </tr>\n",
       "    <tr>\n",
       "      <th>481</th>\n",
       "      <td>09</td>\n",
       "      <td>22</td>\n",
       "      <td>36</td>\n",
       "    </tr>\n",
       "    <tr>\n",
       "      <th>1264</th>\n",
       "      <td>12</td>\n",
       "      <td>46</td>\n",
       "      <td>49</td>\n",
       "    </tr>\n",
       "  </tbody>\n",
       "</table>\n",
       "</div>"
      ],
      "text/plain": [
       "       0   1   2\n",
       "7     08  19  29\n",
       "46    10  24  22\n",
       "355   14  19  16\n",
       "481   09  22  36\n",
       "1264  12  46  49"
      ]
     },
     "execution_count": 23,
     "metadata": {},
     "output_type": "execute_result"
    }
   ],
   "source": [
    "# To do this, lets split time stamp and keep hour only\n",
    "time_converted_new_price = converted_new_price.timestamp.str.split(expand=True)[1]\n",
    "hour_converted_new_price = time_converted_new_price.str.split(':', expand=True)\n",
    "hour_converted_new_price.head()"
   ]
  },
  {
   "cell_type": "code",
   "execution_count": 84,
   "metadata": {},
   "outputs": [
    {
     "name": "stderr",
     "output_type": "stream",
     "text": [
      "C:\\Users\\Jason Sosa\\Anaconda3\\lib\\site-packages\\ipykernel_launcher.py:2: SettingWithCopyWarning: \n",
      "A value is trying to be set on a copy of a slice from a DataFrame.\n",
      "Try using .loc[row_indexer,col_indexer] = value instead\n",
      "\n",
      "See the caveats in the documentation: http://pandas.pydata.org/pandas-docs/stable/indexing.html#indexing-view-versus-copy\n",
      "  \n"
     ]
    },
    {
     "data": {
      "text/html": [
       "<div>\n",
       "<style scoped>\n",
       "    .dataframe tbody tr th:only-of-type {\n",
       "        vertical-align: middle;\n",
       "    }\n",
       "\n",
       "    .dataframe tbody tr th {\n",
       "        vertical-align: top;\n",
       "    }\n",
       "\n",
       "    .dataframe thead th {\n",
       "        text-align: right;\n",
       "    }\n",
       "</style>\n",
       "<table border=\"1\" class=\"dataframe\">\n",
       "  <thead>\n",
       "    <tr style=\"text-align: right;\">\n",
       "      <th></th>\n",
       "      <th>Unnamed: 0</th>\n",
       "      <th>user_id</th>\n",
       "      <th>timestamp</th>\n",
       "      <th>source</th>\n",
       "      <th>device</th>\n",
       "      <th>operative_system</th>\n",
       "      <th>test</th>\n",
       "      <th>price</th>\n",
       "      <th>converted</th>\n",
       "      <th>timeStamp_hour</th>\n",
       "    </tr>\n",
       "  </thead>\n",
       "  <tbody>\n",
       "    <tr>\n",
       "      <th>7</th>\n",
       "      <td>7</td>\n",
       "      <td>798371</td>\n",
       "      <td>2015-03-15 08:19:29</td>\n",
       "      <td>ads-bing</td>\n",
       "      <td>mobile</td>\n",
       "      <td>android</td>\n",
       "      <td>1</td>\n",
       "      <td>59.0</td>\n",
       "      <td>1</td>\n",
       "      <td>08</td>\n",
       "    </tr>\n",
       "    <tr>\n",
       "      <th>46</th>\n",
       "      <td>46</td>\n",
       "      <td>733130</td>\n",
       "      <td>2015-03-14 10:24:22</td>\n",
       "      <td>ads_other</td>\n",
       "      <td>mobile</td>\n",
       "      <td>android</td>\n",
       "      <td>1</td>\n",
       "      <td>59.0</td>\n",
       "      <td>1</td>\n",
       "      <td>10</td>\n",
       "    </tr>\n",
       "    <tr>\n",
       "      <th>355</th>\n",
       "      <td>355</td>\n",
       "      <td>551940</td>\n",
       "      <td>2015-05-26 14:19:16</td>\n",
       "      <td>seo-bing</td>\n",
       "      <td>mobile</td>\n",
       "      <td>iOS</td>\n",
       "      <td>1</td>\n",
       "      <td>59.0</td>\n",
       "      <td>1</td>\n",
       "      <td>14</td>\n",
       "    </tr>\n",
       "    <tr>\n",
       "      <th>481</th>\n",
       "      <td>481</td>\n",
       "      <td>66514</td>\n",
       "      <td>2015-05-04 09:22:36</td>\n",
       "      <td>ads_facebook</td>\n",
       "      <td>web</td>\n",
       "      <td>windows</td>\n",
       "      <td>1</td>\n",
       "      <td>59.0</td>\n",
       "      <td>1</td>\n",
       "      <td>09</td>\n",
       "    </tr>\n",
       "    <tr>\n",
       "      <th>1264</th>\n",
       "      <td>1264</td>\n",
       "      <td>613138</td>\n",
       "      <td>2015-04-14 12:46:49</td>\n",
       "      <td>ads-google</td>\n",
       "      <td>web</td>\n",
       "      <td>windows</td>\n",
       "      <td>1</td>\n",
       "      <td>59.0</td>\n",
       "      <td>1</td>\n",
       "      <td>12</td>\n",
       "    </tr>\n",
       "  </tbody>\n",
       "</table>\n",
       "</div>"
      ],
      "text/plain": [
       "      Unnamed: 0  user_id            timestamp        source  device  \\\n",
       "7              7   798371  2015-03-15 08:19:29      ads-bing  mobile   \n",
       "46            46   733130  2015-03-14 10:24:22     ads_other  mobile   \n",
       "355          355   551940  2015-05-26 14:19:16      seo-bing  mobile   \n",
       "481          481    66514  2015-05-04 09:22:36  ads_facebook     web   \n",
       "1264        1264   613138  2015-04-14 12:46:49    ads-google     web   \n",
       "\n",
       "     operative_system  test  price  converted timeStamp_hour  \n",
       "7             android     1   59.0          1             08  \n",
       "46            android     1   59.0          1             10  \n",
       "355               iOS     1   59.0          1             14  \n",
       "481           windows     1   59.0          1             09  \n",
       "1264          windows     1   59.0          1             12  "
      ]
     },
     "execution_count": 84,
     "metadata": {},
     "output_type": "execute_result"
    }
   ],
   "source": [
    "# adding hour to the df\n",
    "converted_new_price['timeStamp_hour'] = hour_converted_new_price[0]\n",
    "converted_new_price.head()"
   ]
  },
  {
   "cell_type": "code",
   "execution_count": 25,
   "metadata": {},
   "outputs": [
    {
     "data": {
      "text/plain": [
       "timeStamp_hour\n",
       "00     29\n",
       "01     30\n",
       "02     36\n",
       "03     29\n",
       "04     38\n",
       "05     25\n",
       "06     36\n",
       "07     64\n",
       "08    112\n",
       "09    105\n",
       "10    144\n",
       "11    189\n",
       "12    227\n",
       "13     92\n",
       "14     87\n",
       "15     86\n",
       "16     91\n",
       "17     83\n",
       "18    111\n",
       "19     37\n",
       "20     29\n",
       "21     27\n",
       "22     31\n",
       "23     20\n",
       "Name: converted, dtype: int64"
      ]
     },
     "execution_count": 25,
     "metadata": {},
     "output_type": "execute_result"
    }
   ],
   "source": [
    "# Grouping by hour\n",
    "converted_hour_group = converted_new_price.groupby('timeStamp_hour')['converted'].count()\n",
    "converted_hour_group"
   ]
  },
  {
   "cell_type": "code",
   "execution_count": 89,
   "metadata": {},
   "outputs": [
    {
     "data": {
      "text/plain": [
       "(array([ 0,  1,  2,  3,  4,  5,  6,  7,  8,  9, 10, 11, 12, 13, 14, 15, 16,\n",
       "        17, 18, 19, 20, 21, 22, 23]), <a list of 24 Text xticklabel objects>)"
      ]
     },
     "execution_count": 89,
     "metadata": {},
     "output_type": "execute_result"
    },
    {
     "data": {
      "image/png": "[encoded data removed]",
      "text/plain": [
       "<Figure size 864x432 with 1 Axes>"
      ]
     },
     "metadata": {
      "needs_background": "light"
     },
     "output_type": "display_data"
    }
   ],
   "source": [
    "# Plot converted user by source for new price\n",
    "converted_hour_group.plot(kind='bar', figsize=(12,6), color='#377eb8')\n",
    "\n",
    "plt.title('Distribution of converted users at $59 by hour', fontsize=20)\n",
    "plt.ylabel('Number of users', fontsize=12)\n",
    "plt.xlabel('Hour of the day', fontsize=12)\n",
    "plt.xticks(rotation='horizontal')"
   ]
  },
  {
   "cell_type": "markdown",
   "metadata": {},
   "source": [
    "#### This shows that users are converted at the highest rate between 10AM and 1PM"
   ]
  },
  {
   "cell_type": "markdown",
   "metadata": {},
   "source": [
    "#### Lets take a look at customer segmentation by city and country."
   ]
  },
  {
   "cell_type": "code",
   "execution_count": 27,
   "metadata": {},
   "outputs": [
    {
     "data": {
      "text/html": [
       "<div>\n",
       "<style scoped>\n",
       "    .dataframe tbody tr th:only-of-type {\n",
       "        vertical-align: middle;\n",
       "    }\n",
       "\n",
       "    .dataframe tbody tr th {\n",
       "        vertical-align: top;\n",
       "    }\n",
       "\n",
       "    .dataframe thead th {\n",
       "        text-align: right;\n",
       "    }\n",
       "</style>\n",
       "<table border=\"1\" class=\"dataframe\">\n",
       "  <thead>\n",
       "    <tr style=\"text-align: right;\">\n",
       "      <th></th>\n",
       "      <th>Unnamed: 0</th>\n",
       "      <th>user_id</th>\n",
       "      <th>timestamp</th>\n",
       "      <th>source</th>\n",
       "      <th>device</th>\n",
       "      <th>operative_system</th>\n",
       "      <th>test</th>\n",
       "      <th>price</th>\n",
       "      <th>converted</th>\n",
       "      <th>timeStamp_hour</th>\n",
       "      <th>city</th>\n",
       "      <th>country</th>\n",
       "      <th>lat</th>\n",
       "      <th>long</th>\n",
       "    </tr>\n",
       "  </thead>\n",
       "  <tbody>\n",
       "    <tr>\n",
       "      <th>0</th>\n",
       "      <td>7</td>\n",
       "      <td>798371</td>\n",
       "      <td>2015-03-15 08:19:29</td>\n",
       "      <td>ads-bing</td>\n",
       "      <td>mobile</td>\n",
       "      <td>android</td>\n",
       "      <td>1</td>\n",
       "      <td>59.0</td>\n",
       "      <td>1</td>\n",
       "      <td>08</td>\n",
       "      <td>East Orange</td>\n",
       "      <td>USA</td>\n",
       "      <td>40.77</td>\n",
       "      <td>-74.21</td>\n",
       "    </tr>\n",
       "    <tr>\n",
       "      <th>1</th>\n",
       "      <td>46</td>\n",
       "      <td>733130</td>\n",
       "      <td>2015-03-14 10:24:22</td>\n",
       "      <td>ads_other</td>\n",
       "      <td>mobile</td>\n",
       "      <td>android</td>\n",
       "      <td>1</td>\n",
       "      <td>59.0</td>\n",
       "      <td>1</td>\n",
       "      <td>10</td>\n",
       "      <td>Charleston</td>\n",
       "      <td>USA</td>\n",
       "      <td>38.35</td>\n",
       "      <td>-81.63</td>\n",
       "    </tr>\n",
       "    <tr>\n",
       "      <th>2</th>\n",
       "      <td>355</td>\n",
       "      <td>551940</td>\n",
       "      <td>2015-05-26 14:19:16</td>\n",
       "      <td>seo-bing</td>\n",
       "      <td>mobile</td>\n",
       "      <td>iOS</td>\n",
       "      <td>1</td>\n",
       "      <td>59.0</td>\n",
       "      <td>1</td>\n",
       "      <td>14</td>\n",
       "      <td>Largo</td>\n",
       "      <td>USA</td>\n",
       "      <td>27.91</td>\n",
       "      <td>-82.78</td>\n",
       "    </tr>\n",
       "    <tr>\n",
       "      <th>3</th>\n",
       "      <td>481</td>\n",
       "      <td>66514</td>\n",
       "      <td>2015-05-04 09:22:36</td>\n",
       "      <td>ads_facebook</td>\n",
       "      <td>web</td>\n",
       "      <td>windows</td>\n",
       "      <td>1</td>\n",
       "      <td>59.0</td>\n",
       "      <td>1</td>\n",
       "      <td>09</td>\n",
       "      <td>Seattle</td>\n",
       "      <td>USA</td>\n",
       "      <td>47.62</td>\n",
       "      <td>-122.35</td>\n",
       "    </tr>\n",
       "    <tr>\n",
       "      <th>4</th>\n",
       "      <td>1264</td>\n",
       "      <td>613138</td>\n",
       "      <td>2015-04-14 12:46:49</td>\n",
       "      <td>ads-google</td>\n",
       "      <td>web</td>\n",
       "      <td>windows</td>\n",
       "      <td>1</td>\n",
       "      <td>59.0</td>\n",
       "      <td>1</td>\n",
       "      <td>12</td>\n",
       "      <td>Surprise</td>\n",
       "      <td>USA</td>\n",
       "      <td>33.66</td>\n",
       "      <td>-112.47</td>\n",
       "    </tr>\n",
       "  </tbody>\n",
       "</table>\n",
       "</div>"
      ],
      "text/plain": [
       "   Unnamed: 0  user_id            timestamp        source  device  \\\n",
       "0           7   798371  2015-03-15 08:19:29      ads-bing  mobile   \n",
       "1          46   733130  2015-03-14 10:24:22     ads_other  mobile   \n",
       "2         355   551940  2015-05-26 14:19:16      seo-bing  mobile   \n",
       "3         481    66514  2015-05-04 09:22:36  ads_facebook     web   \n",
       "4        1264   613138  2015-04-14 12:46:49    ads-google     web   \n",
       "\n",
       "  operative_system  test  price  converted timeStamp_hour         city  \\\n",
       "0          android     1   59.0          1             08  East Orange   \n",
       "1          android     1   59.0          1             10   Charleston   \n",
       "2              iOS     1   59.0          1             14        Largo   \n",
       "3          windows     1   59.0          1             09      Seattle   \n",
       "4          windows     1   59.0          1             12     Surprise   \n",
       "\n",
       "  country    lat    long  \n",
       "0     USA  40.77  -74.21  \n",
       "1     USA  38.35  -81.63  \n",
       "2     USA  27.91  -82.78  \n",
       "3     USA  47.62 -122.35  \n",
       "4     USA  33.66 -112.47  "
      ]
     },
     "execution_count": 27,
     "metadata": {},
     "output_type": "execute_result"
    }
   ],
   "source": [
    "# Time to join the datasets in user_id\n",
    "user_test_converted_new = converted_new_price.merge(right=users, on='user_id')\n",
    "user_test_converted_new.head()"
   ]
  },
  {
   "cell_type": "code",
   "execution_count": 28,
   "metadata": {},
   "outputs": [
    {
     "data": {
      "text/plain": [
       "1521"
      ]
     },
     "execution_count": 28,
     "metadata": {},
     "output_type": "execute_result"
    }
   ],
   "source": [
    "len(user_test_converted_new)"
   ]
  },
  {
   "cell_type": "markdown",
   "metadata": {},
   "source": [
    "#### As expected the number of subscribed user data decrease after joining the sets."
   ]
  },
  {
   "cell_type": "code",
   "execution_count": 29,
   "metadata": {},
   "outputs": [
    {
     "data": {
      "text/plain": [
       "array(['USA'], dtype=object)"
      ]
     },
     "execution_count": 29,
     "metadata": {},
     "output_type": "execute_result"
    }
   ],
   "source": [
    "# Is there more than one country in the dataset?\n",
    "user_test_converted_new.country.unique()"
   ]
  },
  {
   "cell_type": "markdown",
   "metadata": {},
   "source": [
    "#### Just one Country, lets move into customer ssegmenttion by state."
   ]
  },
  {
   "cell_type": "code",
   "execution_count": 30,
   "metadata": {},
   "outputs": [
    {
     "data": {
      "text/plain": [
       "city\n",
       "Abilene        1\n",
       "Akron          1\n",
       "Albany         1\n",
       "Alexandria     1\n",
       "Aliso Viejo    2\n",
       "Name: converted, dtype: int64"
      ]
     },
     "execution_count": 30,
     "metadata": {},
     "output_type": "execute_result"
    }
   ],
   "source": [
    "city_new_converted = user_test_converted_new.groupby('city')['converted'].count()\n",
    "city_new_converted.head()"
   ]
  },
  {
   "cell_type": "markdown",
   "metadata": {},
   "source": [
    "#### It looks like customers are all over USA. Lets take a look at the top 35 states."
   ]
  },
  {
   "cell_type": "code",
   "execution_count": 101,
   "metadata": {},
   "outputs": [
    {
     "data": {
      "text/plain": [
       "(array([ 0,  1,  2,  3,  4,  5,  6,  7,  8,  9, 10, 11, 12, 13, 14, 15, 16,\n",
       "        17, 18, 19, 20, 21, 22, 23, 24, 25, 26, 27, 28, 29, 30, 31, 32, 33,\n",
       "        34]), <a list of 35 Text xticklabel objects>)"
      ]
     },
     "execution_count": 101,
     "metadata": {},
     "output_type": "execute_result"
    },
    {
     "data": {
      "image/png": "[encoded data removed]",
      "text/plain": [
       "<Figure size 864x432 with 1 Axes>"
      ]
     },
     "metadata": {
      "needs_background": "light"
     },
     "output_type": "display_data"
    }
   ],
   "source": [
    "city_new_converted.nlargest(35).plot(kind='bar', figsize=(12,6), color='#377eb8')\n",
    "\n",
    "plt.title('Distribution of converted users at $59 by city', fontsize=20)\n",
    "plt.ylabel('Number of users', fontsize=12)\n",
    "plt.xlabel('city', fontsize=12)\n",
    "plt.xticks(rotation=45, ha='right')"
   ]
  },
  {
   "cell_type": "markdown",
   "metadata": {},
   "source": [
    "#### Higest number of subscribers are from NY, TX, and CA."
   ]
  },
  {
   "cell_type": "code",
   "execution_count": 32,
   "metadata": {},
   "outputs": [
    {
     "data": {
      "text/plain": [
       "city         source      \n",
       "Abilene      ads-bing        1\n",
       "Akron        seo_facebook    1\n",
       "Albany       ads-yahoo       1\n",
       "Alexandria   ads_other       1\n",
       "Aliso Viejo  ads_facebook    2\n",
       "Name: converted, dtype: int64"
      ]
     },
     "execution_count": 32,
     "metadata": {},
     "output_type": "execute_result"
    }
   ],
   "source": [
    "# what's the sourve of conversion by state\n",
    "city_source_new_converted = user_test_converted_new.groupby(['city', 'source'])['converted'].count()\n",
    "city_source_new_converted.head()"
   ]
  },
  {
   "cell_type": "code",
   "execution_count": 100,
   "metadata": {},
   "outputs": [
    {
     "data": {
      "text/plain": [
       "city           source         \n",
       "New York       ads-google         33\n",
       "               friend_referral    19\n",
       "               ads_facebook       17\n",
       "               direct_traffic     17\n",
       "               ads_other          15\n",
       "               seo_facebook       11\n",
       "Chicago        ads-google          9\n",
       "New York       ads-bing            9\n",
       "               seo-google          9\n",
       "Austin         ads_facebook        8\n",
       "San Antonio    ads_facebook        7\n",
       "Chicago        seo-google          6\n",
       "Houston        ads-google          6\n",
       "               ads_facebook        6\n",
       "San Antonio    ads-google          6\n",
       "San Jose       ads_facebook        6\n",
       "Austin         friend_referral     5\n",
       "Chicago        ads_facebook        5\n",
       "Houston        ads-bing            5\n",
       "               direct_traffic      5\n",
       "Indianapolis   ads-google          5\n",
       "Lancaster      ads-google          5\n",
       "Los Angeles    ads-google          5\n",
       "Memphis        ads-google          5\n",
       "Oklahoma City  ads-google          5\n",
       "Philadelphia   ads-google          5\n",
       "Chicago        direct_traffic      4\n",
       "Clarksville    ads_facebook        4\n",
       "Detroit        ads-google          4\n",
       "Houston        friend_referral     4\n",
       "               seo_facebook        4\n",
       "Jacksonville   ads-google          4\n",
       "Las Vegas      ads_facebook        4\n",
       "New York       seo-other           4\n",
       "San Jose       seo_facebook        4\n",
       "Name: converted, dtype: int64"
      ]
     },
     "execution_count": 100,
     "metadata": {},
     "output_type": "execute_result"
    }
   ],
   "source": [
    "city_source_new_converted.nlargest(35)"
   ]
  },
  {
   "cell_type": "markdown",
   "metadata": {},
   "source": [
    "#### As expected, the highest source for conversion are google and facebook ads as well as friend referral and direct traffic."
   ]
  },
  {
   "cell_type": "code",
   "execution_count": 34,
   "metadata": {},
   "outputs": [
    {
     "data": {
      "text/plain": [
       "city         timeStamp_hour\n",
       "Abilene      10                1\n",
       "Akron        16                1\n",
       "Albany       02                1\n",
       "Alexandria   15                1\n",
       "Aliso Viejo  12                1\n",
       "Name: converted, dtype: int64"
      ]
     },
     "execution_count": 34,
     "metadata": {},
     "output_type": "execute_result"
    }
   ],
   "source": [
    "# At what hours of the day they convert the most?\n",
    "city_hour_new_converted = user_test_converted_new.groupby(['city', 'timeStamp_hour'])['converted'].count()\n",
    "city_hour_new_converted.head()"
   ]
  },
  {
   "cell_type": "code",
   "execution_count": 35,
   "metadata": {},
   "outputs": [
    {
     "data": {
      "text/plain": [
       "city          timeStamp_hour\n",
       "New York      12                18\n",
       "              10                15\n",
       "              17                10\n",
       "              11                 9\n",
       "              16                 9\n",
       "              09                 8\n",
       "              15                 8\n",
       "Houston       18                 7\n",
       "New York      08                 7\n",
       "              18                 6\n",
       "San Jose      12                 6\n",
       "Chicago       09                 5\n",
       "              11                 5\n",
       "              12                 5\n",
       "New York      14                 5\n",
       "Chicago       08                 4\n",
       "Houston       10                 4\n",
       "              15                 4\n",
       "Indianapolis  11                 4\n",
       "Los Angeles   08                 4\n",
       "New York      00                 4\n",
       "              22                 4\n",
       "San Antonio   12                 4\n",
       "Austin        11                 3\n",
       "              14                 3\n",
       "Chicago       13                 3\n",
       "              14                 3\n",
       "Houston       11                 3\n",
       "              16                 3\n",
       "Indianapolis  14                 3\n",
       "Lancaster     11                 3\n",
       "Las Vegas     11                 3\n",
       "              12                 3\n",
       "New York      01                 3\n",
       "              03                 3\n",
       "Name: converted, dtype: int64"
      ]
     },
     "execution_count": 35,
     "metadata": {},
     "output_type": "execute_result"
    }
   ],
   "source": [
    "city_hour_new_converted.nlargest(35)"
   ]
  },
  {
   "cell_type": "markdown",
   "metadata": {},
   "source": [
    "#### As expected, users convert the hoghest between 10AM and 1PM."
   ]
  },
  {
   "cell_type": "markdown",
   "metadata": {},
   "source": [
    "# How can XYZ increase user conversion?\n",
    "\n",
    "#### The highest number of converted users come from Google and Facebook ads, as well as Friend referral and Direct traffic (maybe linked). Lowest number of converted users come from seo-bing as well as ads and seo in yahoo.\n",
    "\n",
    "#### Users converted the higest between 10AM and 1PM.\n",
    "\n",
    "# I recommend XYZ to invest more in ads at Facebook and Google as well as finding ways to increase referrals.\n",
    "#### Since most converted users use mobile devices, maybe XYZ can give a few dollars away to an app store (sponsored by app owner).\n",
    "# Additionally, if there are ways to focus ads in a specific region, XYZ should focus on NY, TX, and CA as customers come more often from those states. "
   ]
  },
  {
   "cell_type": "code",
   "execution_count": 36,
   "metadata": {},
   "outputs": [
    {
     "data": {
      "text/html": [
       "<div>\n",
       "<style scoped>\n",
       "    .dataframe tbody tr th:only-of-type {\n",
       "        vertical-align: middle;\n",
       "    }\n",
       "\n",
       "    .dataframe tbody tr th {\n",
       "        vertical-align: top;\n",
       "    }\n",
       "\n",
       "    .dataframe thead th {\n",
       "        text-align: right;\n",
       "    }\n",
       "</style>\n",
       "<table border=\"1\" class=\"dataframe\">\n",
       "  <thead>\n",
       "    <tr style=\"text-align: right;\">\n",
       "      <th></th>\n",
       "      <th>Unnamed: 0</th>\n",
       "      <th>user_id</th>\n",
       "      <th>timestamp</th>\n",
       "      <th>source</th>\n",
       "      <th>device</th>\n",
       "      <th>operative_system</th>\n",
       "      <th>test</th>\n",
       "      <th>price</th>\n",
       "      <th>converted</th>\n",
       "    </tr>\n",
       "  </thead>\n",
       "  <tbody>\n",
       "    <tr>\n",
       "      <th>0</th>\n",
       "      <td>0</td>\n",
       "      <td>604839</td>\n",
       "      <td>2015-05-08 03:38:34</td>\n",
       "      <td>ads_facebook</td>\n",
       "      <td>mobile</td>\n",
       "      <td>iOS</td>\n",
       "      <td>0</td>\n",
       "      <td>39.0</td>\n",
       "      <td>0</td>\n",
       "    </tr>\n",
       "    <tr>\n",
       "      <th>1</th>\n",
       "      <td>1</td>\n",
       "      <td>624057</td>\n",
       "      <td>2015-05-10 21:08:46</td>\n",
       "      <td>seo-google</td>\n",
       "      <td>mobile</td>\n",
       "      <td>android</td>\n",
       "      <td>0</td>\n",
       "      <td>39.0</td>\n",
       "      <td>0</td>\n",
       "    </tr>\n",
       "    <tr>\n",
       "      <th>2</th>\n",
       "      <td>2</td>\n",
       "      <td>317970</td>\n",
       "      <td>2015-04-04 15:01:23</td>\n",
       "      <td>ads-bing</td>\n",
       "      <td>mobile</td>\n",
       "      <td>android</td>\n",
       "      <td>0</td>\n",
       "      <td>39.0</td>\n",
       "      <td>0</td>\n",
       "    </tr>\n",
       "    <tr>\n",
       "      <th>4</th>\n",
       "      <td>4</td>\n",
       "      <td>820854</td>\n",
       "      <td>2015-05-24 11:04:40</td>\n",
       "      <td>ads_facebook</td>\n",
       "      <td>web</td>\n",
       "      <td>mac</td>\n",
       "      <td>0</td>\n",
       "      <td>39.0</td>\n",
       "      <td>0</td>\n",
       "    </tr>\n",
       "    <tr>\n",
       "      <th>5</th>\n",
       "      <td>5</td>\n",
       "      <td>169971</td>\n",
       "      <td>2015-04-13 12:07:08</td>\n",
       "      <td>ads-google</td>\n",
       "      <td>mobile</td>\n",
       "      <td>iOS</td>\n",
       "      <td>0</td>\n",
       "      <td>39.0</td>\n",
       "      <td>0</td>\n",
       "    </tr>\n",
       "  </tbody>\n",
       "</table>\n",
       "</div>"
      ],
      "text/plain": [
       "   Unnamed: 0  user_id            timestamp        source  device  \\\n",
       "0           0   604839  2015-05-08 03:38:34  ads_facebook  mobile   \n",
       "1           1   624057  2015-05-10 21:08:46    seo-google  mobile   \n",
       "2           2   317970  2015-04-04 15:01:23      ads-bing  mobile   \n",
       "4           4   820854  2015-05-24 11:04:40  ads_facebook     web   \n",
       "5           5   169971  2015-04-13 12:07:08    ads-google  mobile   \n",
       "\n",
       "  operative_system  test  price  converted  \n",
       "0              iOS     0   39.0          0  \n",
       "1          android     0   39.0          0  \n",
       "2          android     0   39.0          0  \n",
       "4              mac     0   39.0          0  \n",
       "5              iOS     0   39.0          0  "
      ]
     },
     "execution_count": 36,
     "metadata": {},
     "output_type": "execute_result"
    }
   ],
   "source": [
    "# revisiting df for old price users\n",
    "old_price_users.head()"
   ]
  },
  {
   "cell_type": "markdown",
   "metadata": {},
   "source": [
    "#### Should they have stop the test earlier?"
   ]
  },
  {
   "cell_type": "code",
   "execution_count": 37,
   "metadata": {},
   "outputs": [
    {
     "name": "stderr",
     "output_type": "stream",
     "text": [
      "C:\\Users\\Jason Sosa\\Anaconda3\\lib\\site-packages\\ipykernel_launcher.py:3: SettingWithCopyWarning: \n",
      "A value is trying to be set on a copy of a slice from a DataFrame.\n",
      "Try using .loc[row_indexer,col_indexer] = value instead\n",
      "\n",
      "See the caveats in the documentation: http://pandas.pydata.org/pandas-docs/stable/indexing.html#indexing-view-versus-copy\n",
      "  This is separate from the ipykernel package so we can avoid doing imports until\n",
      "C:\\Users\\Jason Sosa\\Anaconda3\\lib\\site-packages\\ipykernel_launcher.py:4: SettingWithCopyWarning: \n",
      "A value is trying to be set on a copy of a slice from a DataFrame.\n",
      "Try using .loc[row_indexer,col_indexer] = value instead\n",
      "\n",
      "See the caveats in the documentation: http://pandas.pydata.org/pandas-docs/stable/indexing.html#indexing-view-versus-copy\n",
      "  after removing the cwd from sys.path.\n"
     ]
    },
    {
     "data": {
      "text/html": [
       "<div>\n",
       "<style scoped>\n",
       "    .dataframe tbody tr th:only-of-type {\n",
       "        vertical-align: middle;\n",
       "    }\n",
       "\n",
       "    .dataframe tbody tr th {\n",
       "        vertical-align: top;\n",
       "    }\n",
       "\n",
       "    .dataframe thead th {\n",
       "        text-align: right;\n",
       "    }\n",
       "</style>\n",
       "<table border=\"1\" class=\"dataframe\">\n",
       "  <thead>\n",
       "    <tr style=\"text-align: right;\">\n",
       "      <th></th>\n",
       "      <th>Unnamed: 0</th>\n",
       "      <th>user_id</th>\n",
       "      <th>timestamp</th>\n",
       "      <th>source</th>\n",
       "      <th>device</th>\n",
       "      <th>operative_system</th>\n",
       "      <th>test</th>\n",
       "      <th>price</th>\n",
       "      <th>converted</th>\n",
       "      <th>year</th>\n",
       "      <th>month</th>\n",
       "    </tr>\n",
       "  </thead>\n",
       "  <tbody>\n",
       "    <tr>\n",
       "      <th>0</th>\n",
       "      <td>0</td>\n",
       "      <td>604839</td>\n",
       "      <td>2015-05-08 03:38:34</td>\n",
       "      <td>ads_facebook</td>\n",
       "      <td>mobile</td>\n",
       "      <td>iOS</td>\n",
       "      <td>0</td>\n",
       "      <td>39.0</td>\n",
       "      <td>0</td>\n",
       "      <td>2015</td>\n",
       "      <td>05</td>\n",
       "    </tr>\n",
       "    <tr>\n",
       "      <th>1</th>\n",
       "      <td>1</td>\n",
       "      <td>624057</td>\n",
       "      <td>2015-05-10 21:08:46</td>\n",
       "      <td>seo-google</td>\n",
       "      <td>mobile</td>\n",
       "      <td>android</td>\n",
       "      <td>0</td>\n",
       "      <td>39.0</td>\n",
       "      <td>0</td>\n",
       "      <td>2015</td>\n",
       "      <td>05</td>\n",
       "    </tr>\n",
       "    <tr>\n",
       "      <th>2</th>\n",
       "      <td>2</td>\n",
       "      <td>317970</td>\n",
       "      <td>2015-04-04 15:01:23</td>\n",
       "      <td>ads-bing</td>\n",
       "      <td>mobile</td>\n",
       "      <td>android</td>\n",
       "      <td>0</td>\n",
       "      <td>39.0</td>\n",
       "      <td>0</td>\n",
       "      <td>2015</td>\n",
       "      <td>04</td>\n",
       "    </tr>\n",
       "    <tr>\n",
       "      <th>4</th>\n",
       "      <td>4</td>\n",
       "      <td>820854</td>\n",
       "      <td>2015-05-24 11:04:40</td>\n",
       "      <td>ads_facebook</td>\n",
       "      <td>web</td>\n",
       "      <td>mac</td>\n",
       "      <td>0</td>\n",
       "      <td>39.0</td>\n",
       "      <td>0</td>\n",
       "      <td>2015</td>\n",
       "      <td>05</td>\n",
       "    </tr>\n",
       "    <tr>\n",
       "      <th>5</th>\n",
       "      <td>5</td>\n",
       "      <td>169971</td>\n",
       "      <td>2015-04-13 12:07:08</td>\n",
       "      <td>ads-google</td>\n",
       "      <td>mobile</td>\n",
       "      <td>iOS</td>\n",
       "      <td>0</td>\n",
       "      <td>39.0</td>\n",
       "      <td>0</td>\n",
       "      <td>2015</td>\n",
       "      <td>04</td>\n",
       "    </tr>\n",
       "  </tbody>\n",
       "</table>\n",
       "</div>"
      ],
      "text/plain": [
       "   Unnamed: 0  user_id            timestamp        source  device  \\\n",
       "0           0   604839  2015-05-08 03:38:34  ads_facebook  mobile   \n",
       "1           1   624057  2015-05-10 21:08:46    seo-google  mobile   \n",
       "2           2   317970  2015-04-04 15:01:23      ads-bing  mobile   \n",
       "4           4   820854  2015-05-24 11:04:40  ads_facebook     web   \n",
       "5           5   169971  2015-04-13 12:07:08    ads-google  mobile   \n",
       "\n",
       "  operative_system  test  price  converted  year month  \n",
       "0              iOS     0   39.0          0  2015    05  \n",
       "1          android     0   39.0          0  2015    05  \n",
       "2          android     0   39.0          0  2015    04  \n",
       "4              mac     0   39.0          0  2015    05  \n",
       "5              iOS     0   39.0          0  2015    04  "
      ]
     },
     "execution_count": 37,
     "metadata": {},
     "output_type": "execute_result"
    }
   ],
   "source": [
    "# Using timestamp we can check how long did the test ran. Lets make that column\n",
    "date_old_price = old_price_users.timestamp.str.split('-', expand=True)\n",
    "old_price_users['year'] = date_old_price[0]\n",
    "old_price_users['month'] = date_old_price[1]\n",
    "old_price_users.head()"
   ]
  },
  {
   "cell_type": "code",
   "execution_count": 38,
   "metadata": {},
   "outputs": [
    {
     "data": {
      "text/plain": [
       "array(['05', '04', '03', nan], dtype=object)"
      ]
     },
     "execution_count": 38,
     "metadata": {},
     "output_type": "execute_result"
    }
   ],
   "source": [
    "# For how long did the test ran?\n",
    "old_price_users.month.unique()"
   ]
  },
  {
   "cell_type": "markdown",
   "metadata": {},
   "source": [
    "#### The test ran for 3 months"
   ]
  },
  {
   "cell_type": "code",
   "execution_count": 39,
   "metadata": {},
   "outputs": [
    {
     "data": {
      "text/html": [
       "<div>\n",
       "<style scoped>\n",
       "    .dataframe tbody tr th:only-of-type {\n",
       "        vertical-align: middle;\n",
       "    }\n",
       "\n",
       "    .dataframe tbody tr th {\n",
       "        vertical-align: top;\n",
       "    }\n",
       "\n",
       "    .dataframe thead th {\n",
       "        text-align: right;\n",
       "    }\n",
       "</style>\n",
       "<table border=\"1\" class=\"dataframe\">\n",
       "  <thead>\n",
       "    <tr style=\"text-align: right;\">\n",
       "      <th></th>\n",
       "      <th>Unnamed: 0</th>\n",
       "      <th>user_id</th>\n",
       "      <th>timestamp</th>\n",
       "      <th>source</th>\n",
       "      <th>device</th>\n",
       "      <th>operative_system</th>\n",
       "      <th>test</th>\n",
       "      <th>price</th>\n",
       "      <th>converted</th>\n",
       "    </tr>\n",
       "  </thead>\n",
       "  <tbody>\n",
       "    <tr>\n",
       "      <th>3</th>\n",
       "      <td>3</td>\n",
       "      <td>685636</td>\n",
       "      <td>2015-05-07 07:26:01</td>\n",
       "      <td>direct_traffic</td>\n",
       "      <td>mobile</td>\n",
       "      <td>iOS</td>\n",
       "      <td>1</td>\n",
       "      <td>59.0</td>\n",
       "      <td>0</td>\n",
       "    </tr>\n",
       "    <tr>\n",
       "      <th>7</th>\n",
       "      <td>7</td>\n",
       "      <td>798371</td>\n",
       "      <td>2015-03-15 08:19:29</td>\n",
       "      <td>ads-bing</td>\n",
       "      <td>mobile</td>\n",
       "      <td>android</td>\n",
       "      <td>1</td>\n",
       "      <td>59.0</td>\n",
       "      <td>1</td>\n",
       "    </tr>\n",
       "    <tr>\n",
       "      <th>8</th>\n",
       "      <td>8</td>\n",
       "      <td>447194</td>\n",
       "      <td>2015-03-28 12:28:10</td>\n",
       "      <td>ads_facebook</td>\n",
       "      <td>web</td>\n",
       "      <td>windows</td>\n",
       "      <td>1</td>\n",
       "      <td>59.0</td>\n",
       "      <td>0</td>\n",
       "    </tr>\n",
       "    <tr>\n",
       "      <th>9</th>\n",
       "      <td>9</td>\n",
       "      <td>431639</td>\n",
       "      <td>2015-04-24 12:42:18</td>\n",
       "      <td>ads_facebook</td>\n",
       "      <td>web</td>\n",
       "      <td>windows</td>\n",
       "      <td>1</td>\n",
       "      <td>59.0</td>\n",
       "      <td>0</td>\n",
       "    </tr>\n",
       "    <tr>\n",
       "      <th>15</th>\n",
       "      <td>15</td>\n",
       "      <td>552048</td>\n",
       "      <td>2015-03-22 08:58:32</td>\n",
       "      <td>ads-bing</td>\n",
       "      <td>web</td>\n",
       "      <td>windows</td>\n",
       "      <td>1</td>\n",
       "      <td>59.0</td>\n",
       "      <td>0</td>\n",
       "    </tr>\n",
       "  </tbody>\n",
       "</table>\n",
       "</div>"
      ],
      "text/plain": [
       "    Unnamed: 0  user_id            timestamp          source  device  \\\n",
       "3            3   685636  2015-05-07 07:26:01  direct_traffic  mobile   \n",
       "7            7   798371  2015-03-15 08:19:29        ads-bing  mobile   \n",
       "8            8   447194  2015-03-28 12:28:10    ads_facebook     web   \n",
       "9            9   431639  2015-04-24 12:42:18    ads_facebook     web   \n",
       "15          15   552048  2015-03-22 08:58:32        ads-bing     web   \n",
       "\n",
       "   operative_system  test  price  converted  \n",
       "3               iOS     1   59.0          0  \n",
       "7           android     1   59.0          1  \n",
       "8           windows     1   59.0          0  \n",
       "9           windows     1   59.0          0  \n",
       "15          windows     1   59.0          0  "
      ]
     },
     "execution_count": 39,
     "metadata": {},
     "output_type": "execute_result"
    }
   ],
   "source": [
    "# revisiting df for new price users\n",
    "new_price_users.head()"
   ]
  },
  {
   "cell_type": "code",
   "execution_count": 40,
   "metadata": {},
   "outputs": [
    {
     "name": "stderr",
     "output_type": "stream",
     "text": [
      "C:\\Users\\Jason Sosa\\Anaconda3\\lib\\site-packages\\ipykernel_launcher.py:3: SettingWithCopyWarning: \n",
      "A value is trying to be set on a copy of a slice from a DataFrame.\n",
      "Try using .loc[row_indexer,col_indexer] = value instead\n",
      "\n",
      "See the caveats in the documentation: http://pandas.pydata.org/pandas-docs/stable/indexing.html#indexing-view-versus-copy\n",
      "  This is separate from the ipykernel package so we can avoid doing imports until\n",
      "C:\\Users\\Jason Sosa\\Anaconda3\\lib\\site-packages\\ipykernel_launcher.py:4: SettingWithCopyWarning: \n",
      "A value is trying to be set on a copy of a slice from a DataFrame.\n",
      "Try using .loc[row_indexer,col_indexer] = value instead\n",
      "\n",
      "See the caveats in the documentation: http://pandas.pydata.org/pandas-docs/stable/indexing.html#indexing-view-versus-copy\n",
      "  after removing the cwd from sys.path.\n"
     ]
    },
    {
     "data": {
      "text/html": [
       "<div>\n",
       "<style scoped>\n",
       "    .dataframe tbody tr th:only-of-type {\n",
       "        vertical-align: middle;\n",
       "    }\n",
       "\n",
       "    .dataframe tbody tr th {\n",
       "        vertical-align: top;\n",
       "    }\n",
       "\n",
       "    .dataframe thead th {\n",
       "        text-align: right;\n",
       "    }\n",
       "</style>\n",
       "<table border=\"1\" class=\"dataframe\">\n",
       "  <thead>\n",
       "    <tr style=\"text-align: right;\">\n",
       "      <th></th>\n",
       "      <th>Unnamed: 0</th>\n",
       "      <th>user_id</th>\n",
       "      <th>timestamp</th>\n",
       "      <th>source</th>\n",
       "      <th>device</th>\n",
       "      <th>operative_system</th>\n",
       "      <th>test</th>\n",
       "      <th>price</th>\n",
       "      <th>converted</th>\n",
       "      <th>year</th>\n",
       "      <th>month</th>\n",
       "    </tr>\n",
       "  </thead>\n",
       "  <tbody>\n",
       "    <tr>\n",
       "      <th>3</th>\n",
       "      <td>3</td>\n",
       "      <td>685636</td>\n",
       "      <td>2015-05-07 07:26:01</td>\n",
       "      <td>direct_traffic</td>\n",
       "      <td>mobile</td>\n",
       "      <td>iOS</td>\n",
       "      <td>1</td>\n",
       "      <td>59.0</td>\n",
       "      <td>0</td>\n",
       "      <td>2015</td>\n",
       "      <td>05</td>\n",
       "    </tr>\n",
       "    <tr>\n",
       "      <th>7</th>\n",
       "      <td>7</td>\n",
       "      <td>798371</td>\n",
       "      <td>2015-03-15 08:19:29</td>\n",
       "      <td>ads-bing</td>\n",
       "      <td>mobile</td>\n",
       "      <td>android</td>\n",
       "      <td>1</td>\n",
       "      <td>59.0</td>\n",
       "      <td>1</td>\n",
       "      <td>2015</td>\n",
       "      <td>03</td>\n",
       "    </tr>\n",
       "    <tr>\n",
       "      <th>8</th>\n",
       "      <td>8</td>\n",
       "      <td>447194</td>\n",
       "      <td>2015-03-28 12:28:10</td>\n",
       "      <td>ads_facebook</td>\n",
       "      <td>web</td>\n",
       "      <td>windows</td>\n",
       "      <td>1</td>\n",
       "      <td>59.0</td>\n",
       "      <td>0</td>\n",
       "      <td>2015</td>\n",
       "      <td>03</td>\n",
       "    </tr>\n",
       "    <tr>\n",
       "      <th>9</th>\n",
       "      <td>9</td>\n",
       "      <td>431639</td>\n",
       "      <td>2015-04-24 12:42:18</td>\n",
       "      <td>ads_facebook</td>\n",
       "      <td>web</td>\n",
       "      <td>windows</td>\n",
       "      <td>1</td>\n",
       "      <td>59.0</td>\n",
       "      <td>0</td>\n",
       "      <td>2015</td>\n",
       "      <td>04</td>\n",
       "    </tr>\n",
       "    <tr>\n",
       "      <th>15</th>\n",
       "      <td>15</td>\n",
       "      <td>552048</td>\n",
       "      <td>2015-03-22 08:58:32</td>\n",
       "      <td>ads-bing</td>\n",
       "      <td>web</td>\n",
       "      <td>windows</td>\n",
       "      <td>1</td>\n",
       "      <td>59.0</td>\n",
       "      <td>0</td>\n",
       "      <td>2015</td>\n",
       "      <td>03</td>\n",
       "    </tr>\n",
       "  </tbody>\n",
       "</table>\n",
       "</div>"
      ],
      "text/plain": [
       "    Unnamed: 0  user_id            timestamp          source  device  \\\n",
       "3            3   685636  2015-05-07 07:26:01  direct_traffic  mobile   \n",
       "7            7   798371  2015-03-15 08:19:29        ads-bing  mobile   \n",
       "8            8   447194  2015-03-28 12:28:10    ads_facebook     web   \n",
       "9            9   431639  2015-04-24 12:42:18    ads_facebook     web   \n",
       "15          15   552048  2015-03-22 08:58:32        ads-bing     web   \n",
       "\n",
       "   operative_system  test  price  converted  year month  \n",
       "3               iOS     1   59.0          0  2015    05  \n",
       "7           android     1   59.0          1  2015    03  \n",
       "8           windows     1   59.0          0  2015    03  \n",
       "9           windows     1   59.0          0  2015    04  \n",
       "15          windows     1   59.0          0  2015    03  "
      ]
     },
     "execution_count": 40,
     "metadata": {},
     "output_type": "execute_result"
    }
   ],
   "source": [
    "# Making a month column\n",
    "date_new_price = new_price_users.timestamp.str.split('-', expand=True)\n",
    "new_price_users['year'] = date_new_price[0]\n",
    "new_price_users['month'] = date_new_price[1]\n",
    "new_price_users.head()"
   ]
  },
  {
   "cell_type": "code",
   "execution_count": 41,
   "metadata": {},
   "outputs": [
    {
     "data": {
      "text/plain": [
       "array(['05', '03', '04', nan], dtype=object)"
      ]
     },
     "execution_count": 41,
     "metadata": {},
     "output_type": "execute_result"
    }
   ],
   "source": [
    "new_price_users.month.unique()"
   ]
  },
  {
   "cell_type": "markdown",
   "metadata": {},
   "source": [
    "#### 39 dollars and 59 dollars test was running at the same time."
   ]
  },
  {
   "cell_type": "code",
   "execution_count": 42,
   "metadata": {},
   "outputs": [
    {
     "name": "stdout",
     "output_type": "stream",
     "text": [
      "Effect size: 0.03264381956043153\n"
     ]
    }
   ],
   "source": [
    "# What effect size resulted form the test?\n",
    "old_price_mean = old_price_users.converted.mean()\n",
    "old_price_std = old_price_users.converted.std()\n",
    "new_price_mean = new_price_users.converted.mean()\n",
    "new_price_std = new_price_users.converted.std()\n",
    "\n",
    "cohen_d = ((old_price_mean-new_price_mean)/math.sqrt((old_price_std**2+new_price_std**2)/2))\n",
    "print('Effect size:', cohen_d)"
   ]
  },
  {
   "cell_type": "markdown",
   "metadata": {},
   "source": [
    "#### I'll do a power analysis using a z-test to find the minimal number of samples needed to detect that effect size (0.033) with a power of 0.8 and alpha of 0.05"
   ]
  },
  {
   "cell_type": "code",
   "execution_count": 44,
   "metadata": {},
   "outputs": [
    {
     "name": "stdout",
     "output_type": "stream",
     "text": [
      "Minimal number of samples neeeded: 31917.34596918271\n"
     ]
    }
   ],
   "source": [
    "alpha = 0.05\n",
    "power = 0.8\n",
    "power_analysis = NormalIndPower()\n",
    "sample_size_z_test = power_analysis.solve_power(effect_size=cohen_d, alpha=alpha, power=power, ratio=0.3, alternative='two-sided')\n",
    "print('Minimal number of samples neeeded:',sample_size_z_test)"
   ]
  },
  {
   "cell_type": "markdown",
   "metadata": {},
   "source": [
    "#### what percentage of the dataset is ~31917 samples?"
   ]
  },
  {
   "cell_type": "code",
   "execution_count": 104,
   "metadata": {},
   "outputs": [
    {
     "name": "stdout",
     "output_type": "stream",
     "text": [
      "Minimal percent of dataset: 10.173637495516058\n"
     ]
    }
   ],
   "source": [
    "percent_dataset = (sample_size_z_test/(len(old_price_users)+len(new_price_users)))*100\n",
    "print('Minimal percent of dataset:', percent_dataset)"
   ]
  },
  {
   "cell_type": "markdown",
   "metadata": {},
   "source": [
    "#### Since test ran for 3 months == 90 days. The test should have been stopped at ~10.2% of 90 days"
   ]
  },
  {
   "cell_type": "code",
   "execution_count": 105,
   "metadata": {},
   "outputs": [
    {
     "name": "stdout",
     "output_type": "stream",
     "text": [
      "Minimal length of test in days: 9.156273745964452\n"
     ]
    }
   ],
   "source": [
    "print ('Minimal length of test in days:', 90*percent_dataset/100)"
   ]
  },
  {
   "cell_type": "markdown",
   "metadata": {},
   "source": [
    "#### As management suspected the test didn't have to run for 90 days. In fact, it could have been stopped after 9.2 days (round to 10 days)"
   ]
  }
 ],
 "metadata": {
  "kernelspec": {
   "display_name": "Python 3",
   "language": "python",
   "name": "python3"
  },
  "language_info": {
   "codemirror_mode": {
    "name": "ipython",
    "version": 3
   },
   "file_extension": ".py",
   "mimetype": "text/x-python",
   "name": "python",
   "nbconvert_exporter": "python",
   "pygments_lexer": "ipython3",
   "version": "3.6.7"
  }
 },
 "nbformat": 4,
 "nbformat_minor": 2
}
